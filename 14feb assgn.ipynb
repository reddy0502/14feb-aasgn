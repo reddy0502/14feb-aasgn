{
 "cells": [
  {
   "cell_type": "markdown",
   "id": "8b2d81c0-375e-49ed-a322-f1d323d228ae",
   "metadata": {},
   "source": [
    "1ans:"
   ]
  },
  {
   "cell_type": "markdown",
   "id": "d9bd91a7-aee6-462d-ac91-93793bbb761e",
   "metadata": {},
   "source": [
    "Multithreading in Python refers to the ability of a program to have multiple threads of execution running concurrently within a single process. Each thread can execute its own instructions, while still sharing the same memory space as the other threads in the program.\n",
    "\n",
    "Multithreading is used to improve the performance of a program by allowing it to execute multiple tasks simultaneously. It can also be used to enable programs to perform multiple I/O operations simultaneously, which can help to reduce overall execution time.\n",
    "\n",
    "The module used to handle threads in Python is called the \"threading\" module. "
   ]
  },
  {
   "cell_type": "markdown",
   "id": "9403d941-c7f0-4eed-991b-63226eac5336",
   "metadata": {},
   "source": [
    "2ans:"
   ]
  },
  {
   "cell_type": "markdown",
   "id": "7e918a2e-e5fe-4488-ae8b-fce5c61ce66a",
   "metadata": {},
   "source": [
    "The threading module in Python is used to create and manage threads of execution within a single process. A thread is a separate flow of execution that can run concurrently with other threads in the same process."
   ]
  },
  {
   "cell_type": "markdown",
   "id": "f27b2b42-3bcb-4f3c-8793-58efa48cd571",
   "metadata": {},
   "source": [
    "activeCount(): This function returns the number of Thread objects that are active. An active Thread is a Thread that has been started but has not yet been terminated.\n",
    "\n",
    "currentThread(): This function returns a reference to the currently executing Thread object. This can be useful if you need to access information about the currently running thread, such as its name or ID.\n",
    "\n",
    "enumerate(): This function returns a list of all Thread objects that are currently active. Each element of the list is a reference to a Thread object."
   ]
  },
  {
   "cell_type": "markdown",
   "id": "55c52c22-c083-4f2c-8961-5a3a931b8f80",
   "metadata": {},
   "source": [
    "3ans:"
   ]
  },
  {
   "cell_type": "markdown",
   "id": "34254a01-202e-4e4d-9999-b215f0431984",
   "metadata": {},
   "source": [
    "run(): This function is used to define the instructions that will be executed by a thread when it is started.  However, calling run() directly will execute the instructions in the current thread rather than in a new thread.\n",
    "\n",
    "start(): This function is used to start a new thread and execute the code defined in the run() method of that thread. It creates a new thread of execution and calls the run() method in that thread.\n",
    "\n",
    "join(): This function is used to wait for a thread to finish its execution. When you call join() on a thread, the calling thread  will block until the thread being joined completes.\n",
    "\n",
    "isAlive(): This function is used to determine whether a thread is currently executing. It returns True if the thread is currently running, and False otherwise. "
   ]
  },
  {
   "cell_type": "markdown",
   "id": "c33ce02f-d828-458f-9e87-35303c8cf14e",
   "metadata": {},
   "source": [
    "4ans:"
   ]
  },
  {
   "cell_type": "code",
   "execution_count": 1,
   "id": "24cff030-0561-473e-a5b1-31dc7a8d62ce",
   "metadata": {},
   "outputs": [
    {
     "name": "stdout",
     "output_type": "stream",
     "text": [
      "Square of 1: 1\n",
      "Square of 2: 4\n",
      "Square of 3: 9\n",
      "Square of 4: 16\n",
      "Square of 5: 25\n",
      "Square of 6: 36\n",
      "Square of 7: 49\n",
      "Square of 8: 64\n",
      "Square of 9: 81\n",
      "Square of 10: 100\n",
      "Cube of 1: 1\n",
      "Cube of 2: 8\n",
      "Cube of 3: 27\n",
      "Cube of 4: 64\n",
      "Cube of 5: 125\n",
      "Cube of 6: 216\n",
      "Cube of 7: 343\n",
      "Cube of 8: 512\n",
      "Cube of 9: 729\n",
      "Cube of 10: 1000\n"
     ]
    }
   ],
   "source": [
    "import threading\n",
    "\n",
    "def print_squares():\n",
    "    for i in range(1, 11):\n",
    "        print(f\"Square of {i}: {i**2}\")\n",
    "\n",
    "def print_cubes():\n",
    "    for i in range(1, 11):\n",
    "        print(f\"Cube of {i}: {i**3}\")\n",
    "\n",
    "t1 = threading.Thread(target=print_squares)\n",
    "t2 = threading.Thread(target=print_cubes)\n",
    "\n",
    "t1.start()\n",
    "t2.start()\n",
    "\n",
    "t1.join()\n",
    "t2.join()\n"
   ]
  },
  {
   "cell_type": "markdown",
   "id": "b9fd3747-1d8a-465f-9337-aa00a44909cd",
   "metadata": {},
   "source": [
    "5ans:"
   ]
  },
  {
   "cell_type": "markdown",
   "id": "5a0bfeb6-6d04-4ab0-9ce4-c98587a6b64c",
   "metadata": {},
   "source": [
    "Advantages of multithreading in Python:\n",
    "\n",
    "Improved performance: Multithreading can help to improve the overall performance of an application by allowing multiple threads to execute concurrently.\n",
    "\n",
    "Increased responsiveness: Multithreading can make an application more responsive by allowing user interface updates to occur in a separate thread from the main application logic.\n",
    "\n",
    "Better resource utilization: Multithreading can help to better utilize system resources by allowing multiple threads to execute concurrently.\n",
    "\n",
    "Simplified code: Multithreading can simplify code by allowing for more natural and intuitive programming constructs."
   ]
  },
  {
   "cell_type": "markdown",
   "id": "3bb30398-5c08-400b-b4f2-fdc6b5870a14",
   "metadata": {},
   "source": [
    "disadvantages of multithreading:\n",
    "\n",
    "\n",
    "Complexity: Multithreading can make a program more complex, as it introduces issues such as synchronization, race conditions, and deadlocks.\n",
    "\n",
    "Debugging: Debugging a multithreaded program can be more difficult than debugging a single-threaded program, as bugs can be difficult to reproduce and diagnose.\n",
    "\n",
    "Overhead: Multithreading introduces some overhead, as the system needs to manage the threads and allocate resources to them."
   ]
  },
  {
   "cell_type": "markdown",
   "id": "beac2bea-734f-4473-873d-965a6575c714",
   "metadata": {},
   "source": [
    "6ans:"
   ]
  },
  {
   "cell_type": "markdown",
   "id": "b5d4dcf3-4e7d-4b17-9220-5bdb2f44b857",
   "metadata": {},
   "source": [
    "A deadlock occurs when two or more threads are blocked, waiting for each other to release resources they need to continue executing. This creates a situation where none of the threads can make progress, resulting in a program that hangs indefinitely. Deadlocks can occur when threads acquire resources in different orders, leading to a situation where each thread is waiting for a resource that another thread is holding."
   ]
  },
  {
   "cell_type": "markdown",
   "id": "3c95a3e0-be57-4608-93c4-adda1dc416aa",
   "metadata": {},
   "source": [
    "A race condition occurs when two or more threads or processes access a shared resource or data without proper synchronization, and the outcome of the execution depends on the order in which the threads or processes are executed. In other words, the result of the execution depends on which thread or process completes its operation first, and the outcome may be different each time the code is executed. "
   ]
  },
  {
   "cell_type": "code",
   "execution_count": null,
   "id": "727b1da7-1b7e-478a-ae6c-4f786f2e3ebb",
   "metadata": {},
   "outputs": [],
   "source": []
  }
 ],
 "metadata": {
  "kernelspec": {
   "display_name": "Python 3 (ipykernel)",
   "language": "python",
   "name": "python3"
  },
  "language_info": {
   "codemirror_mode": {
    "name": "ipython",
    "version": 3
   },
   "file_extension": ".py",
   "mimetype": "text/x-python",
   "name": "python",
   "nbconvert_exporter": "python",
   "pygments_lexer": "ipython3",
   "version": "3.10.8"
  }
 },
 "nbformat": 4,
 "nbformat_minor": 5
}
